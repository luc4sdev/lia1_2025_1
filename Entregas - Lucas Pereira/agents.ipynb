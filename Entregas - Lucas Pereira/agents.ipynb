{
 "cells": [
  {
   "cell_type": "code",
   "execution_count": 1,
   "id": "bdf9ca57",
   "metadata": {},
   "outputs": [
    {
     "name": "stderr",
     "output_type": "stream",
     "text": [
      "c:\\Users\\lucas\\OneDrive\\Desktop\\luc4sdev\\gemni_project\\.venv\\Lib\\site-packages\\tqdm\\auto.py:21: TqdmWarning: IProgress not found. Please update jupyter and ipywidgets. See https://ipywidgets.readthedocs.io/en/stable/user_install.html\n",
      "  from .autonotebook import tqdm as notebook_tqdm\n"
     ]
    }
   ],
   "source": [
    "from dotenv import load_dotenv\n",
    "import os\n",
    "import google.generativeai as genai"
   ]
  },
  {
   "cell_type": "code",
   "execution_count": 2,
   "id": "e3654d92",
   "metadata": {},
   "outputs": [],
   "source": [
    "# Carregar variável de ambiente\n",
    "load_dotenv()\n",
    "genai.configure(api_key=os.getenv(\"GOOGLE_API_KEY\"))"
   ]
  },
  {
   "cell_type": "code",
   "execution_count": 3,
   "id": "852e6ec8",
   "metadata": {},
   "outputs": [],
   "source": [
    "# Função para criar agentes simulando comportamentos\n",
    "def gerar_resposta_gemini(prompt):\n",
    "    model = genai.GenerativeModel(\"models/gemini-1.5-flash\")\n",
    "    response = model.generate_content(prompt)\n",
    "    return response.text.strip()"
   ]
  },
  {
   "cell_type": "code",
   "execution_count": 11,
   "id": "eb692d48",
   "metadata": {},
   "outputs": [],
   "source": [
    "# Agente: Gerente de Economias\n",
    "def gerenciar_economias(valor, status, hobbies, house_status):\n",
    "    prompt = f\"\"\"\n",
    "    Crie um plano de economia personalizado para uma pessoa que:\n",
    "    - Recebe R$ {valor:,.2f} por mês;\n",
    "    - É {status};\n",
    "    - Gosta de {hobbies}.\n",
    "    - Tem casa {'própria' if house_status == 'proprietário' else 'alugada'}.\n",
    "\n",
    "    O plano deve incluir:\n",
    "    - Sugestões práticas para economizar mensalmente;\n",
    "    - Percentuais recomendados para dividir o salário (ex: moradia, alimentação, lazer, investimentos, etc.);\n",
    "    - Estratégias para montar uma reserva de emergência;\n",
    "    - Dicas para cortar gastos sem impactar o bem-estar;\n",
    "    - Sugestões de hábitos financeiros saudáveis.\n",
    "\n",
    "    Utilize uma linguagem clara, simples e objetiva, como se estivesse explicando para alguém leigo em finanças.\n",
    "    \"\"\"\n",
    "    return gerar_resposta_gemini(prompt)"
   ]
  },
  {
   "cell_type": "code",
   "execution_count": 13,
   "id": "f6b7e587",
   "metadata": {},
   "outputs": [],
   "source": [
    "def criar_cronograma_financeiro(resposta_plano):\n",
    "    prompt = f\"\"\"\n",
    "    Com base no seguinte plano financeiro personalizado:\n",
    "\n",
    "    \\\"\\\"\\\"{resposta_plano}\\\"\\\"\\\"\n",
    "\n",
    "    Crie um cronograma de ação mensal que ajude a pessoa a seguir esse plano com consistência.\n",
    "\n",
    "    O cronograma deve conter:\n",
    "    - Metas mensais (como quanto guardar, onde reduzir gastos, o que revisar);\n",
    "    - Sugestões de tarefas semanais (ex: revisar extrato, planejar refeições, estudar finanças pessoais);\n",
    "    - Recomendações para revisar e ajustar o plano conforme mudanças na renda ou nos gastos;\n",
    "    - Um lembrete motivacional curto para cada mês, incentivando a continuidade.\n",
    "\n",
    "    Seja objetivo e direto, usando linguagem acessível e sem termos técnicos excessivos.\n",
    "    \"\"\"\n",
    "    return gerar_resposta_gemini(prompt)\n"
   ]
  },
  {
   "cell_type": "code",
   "execution_count": 14,
   "id": "0c4c5f90",
   "metadata": {},
   "outputs": [],
   "source": [
    "# Execução\n",
    "valor = 5000.00  # Exemplo de salário mensal\n",
    "status = \"solteiro\" # solteiro, casado, etc.\n",
    "hobbies = \"jogar futebol, ler livros e viajar\" # Exemplo de hobbies\n",
    "house_status = \"proprietária\" # proprietário ou alugado\n",
    "resposta = gerenciar_economias(valor, status, hobbies, house_status)\n",
    "cronograma = criar_cronograma_financeiro(resposta)"
   ]
  },
  {
   "cell_type": "code",
   "execution_count": 15,
   "id": "07a60c49",
   "metadata": {},
   "outputs": [
    {
     "name": "stdout",
     "output_type": "stream",
     "text": [
      "💡 Plano de Economia Personalizado:\n",
      "\n",
      "## Plano de Economia Pessoal: R$ 5.000,00 Mensais\n",
      "\n",
      "Este plano é um guia, ajuste-o à sua realidade e prioridades.  O importante é começar!\n",
      "\n",
      "**1. Divisão do Salário (Percentuais Sugeridos):**\n",
      "\n",
      "* **Moradia:** 30% (R$ 1.500,00) -  Inclui aluguel, condomínio, IPTU (se aplicável).  Se o aluguel estiver muito alto, considere mudança para um local mais acessível.\n",
      "* **Alimentação:** 20% (R$ 1.000,00) -  Planeje suas refeições, cozinhe em casa mais vezes e evite comer fora com frequência.  Faça uma lista de compras e evite impulsos no supermercado.\n",
      "* **Lazer (Futebol, Livros, Viagens):** 15% (R$ 750,00) -  Divida esse valor para cada atividade.  Pesquise por promoções em livros, jogos de futebol mais baratos e viagens mais acessíveis.  Planeje suas viagens com antecedência para conseguir melhores preços.\n",
      "* **Investimentos:** 15% (R$ 750,00) -  Comece com aplicações de baixo risco como Tesouro Direto ou CDBs.  Mesmo pequenas quantias constroem patrimônio a longo prazo.\n",
      "* **Reserva de Emergência:** 10% (R$ 500,00) -  Essencial para imprevistos médicos, desemprego, etc.  Deposite em uma conta separada e de fácil acesso.\n",
      "* **Gastos Pessoais/Imprevistos:** 10% (R$ 500,00) -  Para gastos inesperados, pequenos luxos e saídas imprevistas.\n",
      "\n",
      "\n",
      "**2. Sugestões Práticas para Economizar Mensalmente:**\n",
      "\n",
      "* **Alimentação:** Cozinhe em casa, faça compras com lista, aproveite sobras, leve lanche para o trabalho, escolha alimentos mais em conta, evite bebidas e alimentos processados.\n",
      "* **Lazer:**  Pesquise preços de livros usados, aproveite bibliotecas públicas, jogue futebol com amigos em campos gratuitos, pesquise por promoções e pacotes de viagens, viaje em baixa temporada.\n",
      "* **Transporte:** Utilize transporte público, bicicleta ou caminhe sempre que possível.  Considere caronas ou transporte compartilhado.\n",
      "* **Compras:** Compare preços, evite compras por impulso, utilize aplicativos de cashback, negocie descontos.\n",
      "* **Serviços:**  Revise suas assinaturas de streaming, aplicativos e outros serviços, cancelando aqueles que você não usa com frequência.\n",
      "\n",
      "\n",
      "**3. Estratégias para Montar uma Reserva de Emergência:**\n",
      "\n",
      "* **Automatize:** Configure uma transferência automática mensal de R$500,00 para uma conta poupança ou investimento de fácil acesso.\n",
      "* **Foco:**  Priorize a reserva de emergência até ter o equivalente a 3 a 6 meses de gastos essenciais (no seu caso, cerca de R$ 15.000 a R$ 30.000).\n",
      "* **Escolha certa:**  Opte por aplicações de baixo risco e alta liquidez, para ter acesso ao dinheiro rapidamente caso necessário.\n",
      "\n",
      "\n",
      "**4. Dicas para Cortar Gastos sem Impactar o Bem-Estar:**\n",
      "\n",
      "* **Troque o café da manhã fora por um em casa:** Você economiza e ainda pode controlar melhor a qualidade dos ingredientes.\n",
      "* **Faça happy hour em casa:** Convide amigos para um encontro em sua casa, economizando nos custos de bares e restaurantes.\n",
      "* **Aproveite atividades gratuitas:**  Explore parques, museus com entrada gratuita, trilhas e atividades ao ar livre.\n",
      "\n",
      "\n",
      "**5. Hábitos Financeiros Saudáveis:**\n",
      "\n",
      "* **Controle seus gastos:** Use aplicativos de controle financeiro ou planilhas para monitorar suas entradas e saídas de dinheiro.\n",
      "* **Defina metas financeiras:** Ter objetivos claros, como comprar um carro ou investir em um curso, ajuda a manter o foco na economia.\n",
      "* **Planeje suas compras:**  Evite comprar por impulso, planeje suas compras e compare preços antes de adquirir qualquer produto ou serviço.\n",
      "* **Revise seu orçamento regularmente:**  Ajuste seu plano de acordo com as mudanças em sua vida e metas financeiras.\n",
      "* **Busque conhecimento:** Leia livros, artigos e assista a vídeos sobre educação financeira para aprimorar seus conhecimentos.\n",
      "\n",
      "Lembre-se:  Este é um plano inicial.  A chave para o sucesso é a disciplina, consistência e adaptação às suas necessidades.  Comece pequeno, celebre suas conquistas e ajuste o plano conforme necessário. Boa sorte!\n",
      "\n",
      "📅 Cronograma Financeiro Mensal:\n",
      "\n",
      "## Cronograma Mensal de Ação para o Plano Financeiro de R$5.000,00\n",
      "\n",
      "Este cronograma ajuda a colocar em prática o seu plano financeiro. Lembre-se: adapte-o à sua realidade!\n",
      "\n",
      "**Mês 1: Fundamentos e Iniciativa**\n",
      "\n",
      "* **Meta Mensal:**  Guardar R$750,00 (15% do salário) em investimentos e R$500,00 (10%) na reserva de emergência.  Reduzir gastos com alimentação em 10% (R$100,00). Revisar todas as assinaturas de serviços.\n",
      "* **Tarefas Semanais:**\n",
      "    * Semana 1: Analisar extrato bancário completo, identificar gastos desnecessários e criar uma lista de compras para a semana.\n",
      "    * Semana 2: Planejar as refeições da semana, incluindo almoço e jantar, priorizando receitas caseiras e baratas.\n",
      "    * Semana 3:  Pesquisar opções de investimentos de baixo risco (Tesouro Direto, CDBs).  Cancelar assinaturas desnecessárias.\n",
      "    * Semana 4:  Revisar o orçamento, comparar gastos com o planejado e fazer ajustes.  Começar a leitura de um livro ou artigo sobre finanças pessoais.\n",
      "* **Revisão e Ajustes:** Avaliar se a redução de 10% na alimentação foi atingida. Ajustar o valor da meta caso seja necessário.\n",
      "* **Lembrete Motivacional:**  O primeiro passo é o mais importante!  Você já está no caminho do sucesso financeiro.\n",
      "\n",
      "\n",
      "**Mês 2: Consolidando Hábitos**\n",
      "\n",
      "* **Meta Mensal:**  Guardar R$750,00 em investimentos e R$500,00 na reserva de emergência. Reduzir gastos com lazer em 5% (R$37,50).  Comparar preços de produtos antes de comprar.\n",
      "* **Tarefas Semanais:**\n",
      "    * Semana 1:  Analisar extrato bancário e comparar com o orçamento planejado.\n",
      "    * Semana 2: Planejar refeições e compras com antecedência.  Procurar opções de lazer gratuitas ou mais baratas.\n",
      "    * Semana 3:  Pesquisar preços de produtos em diferentes lojas, utilizando aplicativos de comparação.  Investigar promoções.\n",
      "    * Semana 4:  Revisar o orçamento e identificar áreas onde é possível economizar ainda mais.\n",
      "* **Revisão e Ajustes:**  Avaliar se os hábitos de economizar em alimentação e lazer estão consolidados.  Ajustar metas caso necessário.\n",
      "* **Lembrete Motivacional:**  Você está construindo um futuro financeiro mais seguro, passo a passo!\n",
      "\n",
      "\n",
      "**Mês 3:  Otimizando Recursos**\n",
      "\n",
      "* **Meta Mensal:**  Guardar R$750,00 em investimentos e R$500,00 na reserva de emergência. Reduzir gastos com transporte em 10% (ajuste conforme sua situação).  Pesquisar formas de aumentar a renda.\n",
      "* **Tarefas Semanais:**\n",
      "    * Semana 1:  Analisar gastos com transporte e buscar alternativas mais econômicas.\n",
      "    * Semana 2:  Planejar refeições e compras, utilizando sobras de alimentos e promoções.\n",
      "    * Semana 3:  Pesquisar oportunidades de renda extra (freelas, venda de itens usados).\n",
      "    * Semana 4:  Revisar o orçamento e analisar o progresso em relação às metas.\n",
      "* **Revisão e Ajustes:**  Ajustar o plano baseado nos resultados obtidos nos meses anteriores. Analisar a possibilidade de aumentar o percentual de investimento ou reserva de emergência.\n",
      "* **Lembrete Motivacional:**  Você está mais próximo da sua independência financeira! Continue firme!\n",
      "\n",
      "\n",
      "**Meses subsequentes:**\n",
      "\n",
      "Repita o processo dos meses anteriores, sempre revisando e ajustando o plano com base na sua realidade.  Aumente gradualmente o valor investido e da reserva de emergência, conforme seu conforto e possibilidades.  O foco deve ser na consistência e na disciplina, para atingir seus objetivos a longo prazo.  Lembre-se de celebrar suas conquistas!\n"
     ]
    }
   ],
   "source": [
    "# Resultados\n",
    "print(\"💡 Plano de Economia Personalizado:\\n\")\n",
    "print(resposta)\n",
    "print(\"\\n📅 Cronograma Financeiro Mensal:\\n\")\n",
    "print(cronograma)"
   ]
  }
 ],
 "metadata": {
  "kernelspec": {
   "display_name": ".venv",
   "language": "python",
   "name": "python3"
  },
  "language_info": {
   "codemirror_mode": {
    "name": "ipython",
    "version": 3
   },
   "file_extension": ".py",
   "mimetype": "text/x-python",
   "name": "python",
   "nbconvert_exporter": "python",
   "pygments_lexer": "ipython3",
   "version": "3.12.8"
  }
 },
 "nbformat": 4,
 "nbformat_minor": 5
}
